{
 "cells": [
  {
   "cell_type": "code",
   "execution_count": 1,
   "metadata": {},
   "outputs": [],
   "source": [
    "import pandas as pd\n",
    "import numpy as np"
   ]
  },
  {
   "cell_type": "code",
   "execution_count": 2,
   "metadata": {},
   "outputs": [],
   "source": [
    "df = pd.read_csv(\"gas_turbines.csv\")"
   ]
  },
  {
   "cell_type": "code",
   "execution_count": 3,
   "metadata": {
    "scrolled": true
   },
   "outputs": [
    {
     "data": {
      "text/html": [
       "<div>\n",
       "<style scoped>\n",
       "    .dataframe tbody tr th:only-of-type {\n",
       "        vertical-align: middle;\n",
       "    }\n",
       "\n",
       "    .dataframe tbody tr th {\n",
       "        vertical-align: top;\n",
       "    }\n",
       "\n",
       "    .dataframe thead th {\n",
       "        text-align: right;\n",
       "    }\n",
       "</style>\n",
       "<table border=\"1\" class=\"dataframe\">\n",
       "  <thead>\n",
       "    <tr style=\"text-align: right;\">\n",
       "      <th></th>\n",
       "      <th>AT</th>\n",
       "      <th>AP</th>\n",
       "      <th>AH</th>\n",
       "      <th>AFDP</th>\n",
       "      <th>GTEP</th>\n",
       "      <th>TIT</th>\n",
       "      <th>TAT</th>\n",
       "      <th>TEY</th>\n",
       "      <th>CDP</th>\n",
       "      <th>CO</th>\n",
       "      <th>NOX</th>\n",
       "    </tr>\n",
       "  </thead>\n",
       "  <tbody>\n",
       "    <tr>\n",
       "      <th>0</th>\n",
       "      <td>6.8594</td>\n",
       "      <td>1007.9</td>\n",
       "      <td>96.799</td>\n",
       "      <td>3.5000</td>\n",
       "      <td>19.663</td>\n",
       "      <td>1059.2</td>\n",
       "      <td>550.00</td>\n",
       "      <td>114.70</td>\n",
       "      <td>10.605</td>\n",
       "      <td>3.1547</td>\n",
       "      <td>82.722</td>\n",
       "    </tr>\n",
       "    <tr>\n",
       "      <th>1</th>\n",
       "      <td>6.7850</td>\n",
       "      <td>1008.4</td>\n",
       "      <td>97.118</td>\n",
       "      <td>3.4998</td>\n",
       "      <td>19.728</td>\n",
       "      <td>1059.3</td>\n",
       "      <td>550.00</td>\n",
       "      <td>114.72</td>\n",
       "      <td>10.598</td>\n",
       "      <td>3.2363</td>\n",
       "      <td>82.776</td>\n",
       "    </tr>\n",
       "    <tr>\n",
       "      <th>2</th>\n",
       "      <td>6.8977</td>\n",
       "      <td>1008.8</td>\n",
       "      <td>95.939</td>\n",
       "      <td>3.4824</td>\n",
       "      <td>19.779</td>\n",
       "      <td>1059.4</td>\n",
       "      <td>549.87</td>\n",
       "      <td>114.71</td>\n",
       "      <td>10.601</td>\n",
       "      <td>3.2012</td>\n",
       "      <td>82.468</td>\n",
       "    </tr>\n",
       "    <tr>\n",
       "      <th>3</th>\n",
       "      <td>7.0569</td>\n",
       "      <td>1009.2</td>\n",
       "      <td>95.249</td>\n",
       "      <td>3.4805</td>\n",
       "      <td>19.792</td>\n",
       "      <td>1059.6</td>\n",
       "      <td>549.99</td>\n",
       "      <td>114.72</td>\n",
       "      <td>10.606</td>\n",
       "      <td>3.1923</td>\n",
       "      <td>82.670</td>\n",
       "    </tr>\n",
       "    <tr>\n",
       "      <th>4</th>\n",
       "      <td>7.3978</td>\n",
       "      <td>1009.7</td>\n",
       "      <td>95.150</td>\n",
       "      <td>3.4976</td>\n",
       "      <td>19.765</td>\n",
       "      <td>1059.7</td>\n",
       "      <td>549.98</td>\n",
       "      <td>114.72</td>\n",
       "      <td>10.612</td>\n",
       "      <td>3.2484</td>\n",
       "      <td>82.311</td>\n",
       "    </tr>\n",
       "  </tbody>\n",
       "</table>\n",
       "</div>"
      ],
      "text/plain": [
       "       AT      AP      AH    AFDP    GTEP     TIT     TAT     TEY     CDP  \\\n",
       "0  6.8594  1007.9  96.799  3.5000  19.663  1059.2  550.00  114.70  10.605   \n",
       "1  6.7850  1008.4  97.118  3.4998  19.728  1059.3  550.00  114.72  10.598   \n",
       "2  6.8977  1008.8  95.939  3.4824  19.779  1059.4  549.87  114.71  10.601   \n",
       "3  7.0569  1009.2  95.249  3.4805  19.792  1059.6  549.99  114.72  10.606   \n",
       "4  7.3978  1009.7  95.150  3.4976  19.765  1059.7  549.98  114.72  10.612   \n",
       "\n",
       "       CO     NOX  \n",
       "0  3.1547  82.722  \n",
       "1  3.2363  82.776  \n",
       "2  3.2012  82.468  \n",
       "3  3.1923  82.670  \n",
       "4  3.2484  82.311  "
      ]
     },
     "execution_count": 3,
     "metadata": {},
     "output_type": "execute_result"
    }
   ],
   "source": [
    "df.head()"
   ]
  },
  {
   "cell_type": "code",
   "execution_count": 4,
   "metadata": {},
   "outputs": [
    {
     "data": {
      "text/plain": [
       "(15039, 11)"
      ]
     },
     "execution_count": 4,
     "metadata": {},
     "output_type": "execute_result"
    }
   ],
   "source": [
    "df.shape"
   ]
  },
  {
   "cell_type": "code",
   "execution_count": 5,
   "metadata": {},
   "outputs": [
    {
     "data": {
      "text/plain": [
       "AT      0\n",
       "AP      0\n",
       "AH      0\n",
       "AFDP    0\n",
       "GTEP    0\n",
       "TIT     0\n",
       "TAT     0\n",
       "TEY     0\n",
       "CDP     0\n",
       "CO      0\n",
       "NOX     0\n",
       "dtype: int64"
      ]
     },
     "execution_count": 5,
     "metadata": {},
     "output_type": "execute_result"
    }
   ],
   "source": [
    "df.isnull().sum()"
   ]
  },
  {
   "cell_type": "code",
   "execution_count": 6,
   "metadata": {},
   "outputs": [
    {
     "data": {
      "text/plain": [
       "AT      0\n",
       "AP      0\n",
       "AH      0\n",
       "AFDP    0\n",
       "GTEP    0\n",
       "TIT     0\n",
       "TAT     0\n",
       "TEY     0\n",
       "CDP     0\n",
       "CO      0\n",
       "NOX     0\n",
       "dtype: int64"
      ]
     },
     "execution_count": 6,
     "metadata": {},
     "output_type": "execute_result"
    }
   ],
   "source": [
    "df.isna().sum()"
   ]
  },
  {
   "cell_type": "code",
   "execution_count": 7,
   "metadata": {},
   "outputs": [
    {
     "name": "stdout",
     "output_type": "stream",
     "text": [
      "<class 'pandas.core.frame.DataFrame'>\n",
      "RangeIndex: 15039 entries, 0 to 15038\n",
      "Data columns (total 11 columns):\n",
      " #   Column  Non-Null Count  Dtype  \n",
      "---  ------  --------------  -----  \n",
      " 0   AT      15039 non-null  float64\n",
      " 1   AP      15039 non-null  float64\n",
      " 2   AH      15039 non-null  float64\n",
      " 3   AFDP    15039 non-null  float64\n",
      " 4   GTEP    15039 non-null  float64\n",
      " 5   TIT     15039 non-null  float64\n",
      " 6   TAT     15039 non-null  float64\n",
      " 7   TEY     15039 non-null  float64\n",
      " 8   CDP     15039 non-null  float64\n",
      " 9   CO      15039 non-null  float64\n",
      " 10  NOX     15039 non-null  float64\n",
      "dtypes: float64(11)\n",
      "memory usage: 1.3 MB\n"
     ]
    }
   ],
   "source": [
    "df.info()"
   ]
  },
  {
   "cell_type": "code",
   "execution_count": 8,
   "metadata": {
    "scrolled": true
   },
   "outputs": [
    {
     "data": {
      "text/html": [
       "<div>\n",
       "<style scoped>\n",
       "    .dataframe tbody tr th:only-of-type {\n",
       "        vertical-align: middle;\n",
       "    }\n",
       "\n",
       "    .dataframe tbody tr th {\n",
       "        vertical-align: top;\n",
       "    }\n",
       "\n",
       "    .dataframe thead th {\n",
       "        text-align: right;\n",
       "    }\n",
       "</style>\n",
       "<table border=\"1\" class=\"dataframe\">\n",
       "  <thead>\n",
       "    <tr style=\"text-align: right;\">\n",
       "      <th></th>\n",
       "      <th>AT</th>\n",
       "      <th>AP</th>\n",
       "      <th>AH</th>\n",
       "      <th>AFDP</th>\n",
       "      <th>GTEP</th>\n",
       "      <th>TIT</th>\n",
       "      <th>TAT</th>\n",
       "      <th>TEY</th>\n",
       "      <th>CDP</th>\n",
       "      <th>CO</th>\n",
       "      <th>NOX</th>\n",
       "    </tr>\n",
       "  </thead>\n",
       "  <tbody>\n",
       "    <tr>\n",
       "      <th>count</th>\n",
       "      <td>15039.000000</td>\n",
       "      <td>15039.00000</td>\n",
       "      <td>15039.000000</td>\n",
       "      <td>15039.000000</td>\n",
       "      <td>15039.000000</td>\n",
       "      <td>15039.000000</td>\n",
       "      <td>15039.000000</td>\n",
       "      <td>15039.000000</td>\n",
       "      <td>15039.000000</td>\n",
       "      <td>15039.000000</td>\n",
       "      <td>15039.000000</td>\n",
       "    </tr>\n",
       "    <tr>\n",
       "      <th>mean</th>\n",
       "      <td>17.764381</td>\n",
       "      <td>1013.19924</td>\n",
       "      <td>79.124174</td>\n",
       "      <td>4.200294</td>\n",
       "      <td>25.419061</td>\n",
       "      <td>1083.798770</td>\n",
       "      <td>545.396183</td>\n",
       "      <td>134.188464</td>\n",
       "      <td>12.102353</td>\n",
       "      <td>1.972499</td>\n",
       "      <td>68.190934</td>\n",
       "    </tr>\n",
       "    <tr>\n",
       "      <th>std</th>\n",
       "      <td>7.574323</td>\n",
       "      <td>6.41076</td>\n",
       "      <td>13.793439</td>\n",
       "      <td>0.760197</td>\n",
       "      <td>4.173916</td>\n",
       "      <td>16.527806</td>\n",
       "      <td>7.866803</td>\n",
       "      <td>15.829717</td>\n",
       "      <td>1.103196</td>\n",
       "      <td>2.222206</td>\n",
       "      <td>10.470586</td>\n",
       "    </tr>\n",
       "    <tr>\n",
       "      <th>min</th>\n",
       "      <td>0.522300</td>\n",
       "      <td>985.85000</td>\n",
       "      <td>30.344000</td>\n",
       "      <td>2.087400</td>\n",
       "      <td>17.878000</td>\n",
       "      <td>1000.800000</td>\n",
       "      <td>512.450000</td>\n",
       "      <td>100.170000</td>\n",
       "      <td>9.904400</td>\n",
       "      <td>0.000388</td>\n",
       "      <td>27.765000</td>\n",
       "    </tr>\n",
       "    <tr>\n",
       "      <th>25%</th>\n",
       "      <td>11.408000</td>\n",
       "      <td>1008.90000</td>\n",
       "      <td>69.750000</td>\n",
       "      <td>3.723900</td>\n",
       "      <td>23.294000</td>\n",
       "      <td>1079.600000</td>\n",
       "      <td>542.170000</td>\n",
       "      <td>127.985000</td>\n",
       "      <td>11.622000</td>\n",
       "      <td>0.858055</td>\n",
       "      <td>61.303500</td>\n",
       "    </tr>\n",
       "    <tr>\n",
       "      <th>50%</th>\n",
       "      <td>18.186000</td>\n",
       "      <td>1012.80000</td>\n",
       "      <td>82.266000</td>\n",
       "      <td>4.186200</td>\n",
       "      <td>25.082000</td>\n",
       "      <td>1088.700000</td>\n",
       "      <td>549.890000</td>\n",
       "      <td>133.780000</td>\n",
       "      <td>12.025000</td>\n",
       "      <td>1.390200</td>\n",
       "      <td>66.601000</td>\n",
       "    </tr>\n",
       "    <tr>\n",
       "      <th>75%</th>\n",
       "      <td>23.862500</td>\n",
       "      <td>1016.90000</td>\n",
       "      <td>90.043500</td>\n",
       "      <td>4.550900</td>\n",
       "      <td>27.184000</td>\n",
       "      <td>1096.000000</td>\n",
       "      <td>550.060000</td>\n",
       "      <td>140.895000</td>\n",
       "      <td>12.578000</td>\n",
       "      <td>2.160400</td>\n",
       "      <td>73.935500</td>\n",
       "    </tr>\n",
       "    <tr>\n",
       "      <th>max</th>\n",
       "      <td>34.929000</td>\n",
       "      <td>1034.20000</td>\n",
       "      <td>100.200000</td>\n",
       "      <td>7.610600</td>\n",
       "      <td>37.402000</td>\n",
       "      <td>1100.800000</td>\n",
       "      <td>550.610000</td>\n",
       "      <td>174.610000</td>\n",
       "      <td>15.081000</td>\n",
       "      <td>44.103000</td>\n",
       "      <td>119.890000</td>\n",
       "    </tr>\n",
       "  </tbody>\n",
       "</table>\n",
       "</div>"
      ],
      "text/plain": [
       "                 AT           AP            AH          AFDP          GTEP  \\\n",
       "count  15039.000000  15039.00000  15039.000000  15039.000000  15039.000000   \n",
       "mean      17.764381   1013.19924     79.124174      4.200294     25.419061   \n",
       "std        7.574323      6.41076     13.793439      0.760197      4.173916   \n",
       "min        0.522300    985.85000     30.344000      2.087400     17.878000   \n",
       "25%       11.408000   1008.90000     69.750000      3.723900     23.294000   \n",
       "50%       18.186000   1012.80000     82.266000      4.186200     25.082000   \n",
       "75%       23.862500   1016.90000     90.043500      4.550900     27.184000   \n",
       "max       34.929000   1034.20000    100.200000      7.610600     37.402000   \n",
       "\n",
       "                TIT           TAT           TEY           CDP            CO  \\\n",
       "count  15039.000000  15039.000000  15039.000000  15039.000000  15039.000000   \n",
       "mean    1083.798770    545.396183    134.188464     12.102353      1.972499   \n",
       "std       16.527806      7.866803     15.829717      1.103196      2.222206   \n",
       "min     1000.800000    512.450000    100.170000      9.904400      0.000388   \n",
       "25%     1079.600000    542.170000    127.985000     11.622000      0.858055   \n",
       "50%     1088.700000    549.890000    133.780000     12.025000      1.390200   \n",
       "75%     1096.000000    550.060000    140.895000     12.578000      2.160400   \n",
       "max     1100.800000    550.610000    174.610000     15.081000     44.103000   \n",
       "\n",
       "                NOX  \n",
       "count  15039.000000  \n",
       "mean      68.190934  \n",
       "std       10.470586  \n",
       "min       27.765000  \n",
       "25%       61.303500  \n",
       "50%       66.601000  \n",
       "75%       73.935500  \n",
       "max      119.890000  "
      ]
     },
     "execution_count": 8,
     "metadata": {},
     "output_type": "execute_result"
    }
   ],
   "source": [
    "df.describe()"
   ]
  },
  {
   "cell_type": "code",
   "execution_count": 9,
   "metadata": {
    "scrolled": true
   },
   "outputs": [
    {
     "data": {
      "text/plain": [
       "<AxesSubplot:>"
      ]
     },
     "execution_count": 9,
     "metadata": {},
     "output_type": "execute_result"
    },
    {
     "data": {
      "image/png": "[encoded data removed]",
      "text/plain": [
       "<Figure size 864x576 with 2 Axes>"
      ]
     },
     "metadata": {
      "needs_background": "light"
     },
     "output_type": "display_data"
    }
   ],
   "source": [
    "## Find the high correlated Values\n",
    "import seaborn as sns\n",
    "import matplotlib.pyplot as plt\n",
    "plt.figure(figsize=(12,8))\n",
    "cor = df.corr()\n",
    "sns.heatmap(cor, annot=True, cmap= plt.cm.CMRmap_r)"
   ]
  },
  {
   "cell_type": "code",
   "execution_count": 10,
   "metadata": {},
   "outputs": [],
   "source": [
    "## find the feature engineering correlation\n",
    "def correlation(dataset, threshold):\n",
    "    col_corr = set()\n",
    "    corr_matrix = dataset.corr()\n",
    "    for i in range(len(corr_matrix.columns)):\n",
    "         for j in range(i):\n",
    "                if (corr_matrix.iloc[i,j])>threshold:\n",
    "                    colname = corr_matrix.columns[i]\n",
    "                    col_corr.add(colname)\n",
    "    return col_corr"
   ]
  },
  {
   "cell_type": "code",
   "execution_count": 11,
   "metadata": {},
   "outputs": [
    {
     "name": "stdout",
     "output_type": "stream",
     "text": [
      "name or High correlated Values is: {'GTEP', 'CDP', 'TIT', 'TEY'}\n",
      " total number of correlated is: 4\n"
     ]
    }
   ],
   "source": [
    "corr = correlation(df, 0.7)\n",
    "print(f'name or High correlated Values is: {corr}\\n total number of correlated is: {len(corr)}')"
   ]
  },
  {
   "cell_type": "code",
   "execution_count": 12,
   "metadata": {},
   "outputs": [],
   "source": [
    "#df.drop(columns=['CDP', 'TIT', 'GTEP'], axis=1, inplace=True)"
   ]
  },
  {
   "cell_type": "code",
   "execution_count": 13,
   "metadata": {},
   "outputs": [
    {
     "data": {
      "text/plain": [
       "(15039, 11)"
      ]
     },
     "execution_count": 13,
     "metadata": {},
     "output_type": "execute_result"
    }
   ],
   "source": [
    "df.shape"
   ]
  },
  {
   "cell_type": "markdown",
   "metadata": {},
   "source": [
    "## Visualization"
   ]
  },
  {
   "cell_type": "code",
   "execution_count": 14,
   "metadata": {},
   "outputs": [
    {
     "data": {
      "text/plain": [
       "<AxesSubplot:xlabel='TEY', ylabel='AP'>"
      ]
     },
     "execution_count": 14,
     "metadata": {},
     "output_type": "execute_result"
    },
    {
     "data": {
      "image/png": "[encoded data removed]",
      "text/plain": [
       "<Figure size 432x288 with 1 Axes>"
      ]
     },
     "metadata": {
      "needs_background": "light"
     },
     "output_type": "display_data"
    }
   ],
   "source": [
    "sns.histplot(x='TEY', y='AP',data=df)"
   ]
  },
  {
   "cell_type": "code",
   "execution_count": 15,
   "metadata": {},
   "outputs": [
    {
     "data": {
      "text/plain": [
       "<AxesSubplot:xlabel='TEY', ylabel='AP'>"
      ]
     },
     "execution_count": 15,
     "metadata": {},
     "output_type": "execute_result"
    },
    {
     "data": {
      "image/png": "[encoded data removed]",
      "text/plain": [
       "<Figure size 432x288 with 1 Axes>"
      ]
     },
     "metadata": {
      "needs_background": "light"
     },
     "output_type": "display_data"
    }
   ],
   "source": [
    "sns.scatterplot(x='TEY', y='AP',data=df)"
   ]
  },
  {
   "cell_type": "code",
   "execution_count": 16,
   "metadata": {},
   "outputs": [
    {
     "data": {
      "text/plain": [
       "<AxesSubplot:>"
      ]
     },
     "execution_count": 16,
     "metadata": {},
     "output_type": "execute_result"
    },
    {
     "data": {
      "image/png": "[encoded data removed]",
      "text/plain": [
       "<Figure size 432x288 with 1 Axes>"
      ]
     },
     "metadata": {
      "needs_background": "light"
     },
     "output_type": "display_data"
    }
   ],
   "source": [
    "df.AT.hist()"
   ]
  },
  {
   "cell_type": "code",
   "execution_count": 17,
   "metadata": {
    "scrolled": true
   },
   "outputs": [
    {
     "data": {
      "text/plain": [
       "<AxesSubplot:>"
      ]
     },
     "execution_count": 17,
     "metadata": {},
     "output_type": "execute_result"
    },
    {
     "data": {
      "image/png": "[encoded data removed]",
      "text/plain": [
       "<Figure size 432x288 with 1 Axes>"
      ]
     },
     "metadata": {
      "needs_background": "light"
     },
     "output_type": "display_data"
    }
   ],
   "source": [
    "df.AP.hist()"
   ]
  },
  {
   "cell_type": "code",
   "execution_count": 18,
   "metadata": {
    "scrolled": true
   },
   "outputs": [
    {
     "data": {
      "text/plain": [
       "<AxesSubplot:>"
      ]
     },
     "execution_count": 18,
     "metadata": {},
     "output_type": "execute_result"
    },
    {
     "data": {
      "image/png": "[encoded data removed]",
      "text/plain": [
       "<Figure size 432x288 with 1 Axes>"
      ]
     },
     "metadata": {
      "needs_background": "light"
     },
     "output_type": "display_data"
    }
   ],
   "source": [
    "df.TEY.hist()"
   ]
  },
  {
   "cell_type": "code",
   "execution_count": 19,
   "metadata": {
    "scrolled": true
   },
   "outputs": [
    {
     "data": {
      "image/png": "[encoded data removed]",
      "text/plain": [
       "<Figure size 864x720 with 1 Axes>"
      ]
     },
     "metadata": {
      "needs_background": "light"
     },
     "output_type": "display_data"
    }
   ],
   "source": [
    "plt.figure(figsize=(12,10))\n",
    "plt.boxplot(df.TEY)\n",
    "plt.show()"
   ]
  },
  {
   "cell_type": "code",
   "execution_count": 20,
   "metadata": {},
   "outputs": [],
   "source": [
    "train = df.drop('TEY', axis=1)\n",
    "test = df.TEY"
   ]
  },
  {
   "cell_type": "code",
   "execution_count": 21,
   "metadata": {},
   "outputs": [],
   "source": [
    "#calculating VIF for multicolinearity\n",
    "from statsmodels.stats.outliers_influence import variance_inflation_factor\n",
    "\n",
    "def calc_vif(X):\n",
    "\n",
    "    # Calculating VIF\n",
    "    vif = pd.DataFrame()\n",
    "    vif[\"variables\"] = X.columns\n",
    "    vif[\"VIF\"] = [variance_inflation_factor(X.values, i) for i in range(X.shape[1])]\n",
    "\n",
    "    return(vif)"
   ]
  },
  {
   "cell_type": "code",
   "execution_count": 22,
   "metadata": {
    "scrolled": true
   },
   "outputs": [
    {
     "data": {
      "text/html": [
       "<div>\n",
       "<style scoped>\n",
       "    .dataframe tbody tr th:only-of-type {\n",
       "        vertical-align: middle;\n",
       "    }\n",
       "\n",
       "    .dataframe tbody tr th {\n",
       "        vertical-align: top;\n",
       "    }\n",
       "\n",
       "    .dataframe thead th {\n",
       "        text-align: right;\n",
       "    }\n",
       "</style>\n",
       "<table border=\"1\" class=\"dataframe\">\n",
       "  <thead>\n",
       "    <tr style=\"text-align: right;\">\n",
       "      <th></th>\n",
       "      <th>variables</th>\n",
       "      <th>VIF</th>\n",
       "    </tr>\n",
       "  </thead>\n",
       "  <tbody>\n",
       "    <tr>\n",
       "      <th>0</th>\n",
       "      <td>AT</td>\n",
       "      <td>3.414439e+01</td>\n",
       "    </tr>\n",
       "    <tr>\n",
       "      <th>1</th>\n",
       "      <td>AP</td>\n",
       "      <td>1.842147e+04</td>\n",
       "    </tr>\n",
       "    <tr>\n",
       "      <th>2</th>\n",
       "      <td>AH</td>\n",
       "      <td>6.863745e+01</td>\n",
       "    </tr>\n",
       "    <tr>\n",
       "      <th>3</th>\n",
       "      <td>AFDP</td>\n",
       "      <td>8.580114e+01</td>\n",
       "    </tr>\n",
       "    <tr>\n",
       "      <th>4</th>\n",
       "      <td>GTEP</td>\n",
       "      <td>1.233878e+04</td>\n",
       "    </tr>\n",
       "    <tr>\n",
       "      <th>5</th>\n",
       "      <td>TIT</td>\n",
       "      <td>1.372092e+06</td>\n",
       "    </tr>\n",
       "    <tr>\n",
       "      <th>6</th>\n",
       "      <td>TAT</td>\n",
       "      <td>8.166382e+05</td>\n",
       "    </tr>\n",
       "    <tr>\n",
       "      <th>7</th>\n",
       "      <td>CDP</td>\n",
       "      <td>3.858125e+04</td>\n",
       "    </tr>\n",
       "    <tr>\n",
       "      <th>8</th>\n",
       "      <td>CO</td>\n",
       "      <td>3.813210e+00</td>\n",
       "    </tr>\n",
       "    <tr>\n",
       "      <th>9</th>\n",
       "      <td>NOX</td>\n",
       "      <td>1.071006e+02</td>\n",
       "    </tr>\n",
       "  </tbody>\n",
       "</table>\n",
       "</div>"
      ],
      "text/plain": [
       "  variables           VIF\n",
       "0        AT  3.414439e+01\n",
       "1        AP  1.842147e+04\n",
       "2        AH  6.863745e+01\n",
       "3      AFDP  8.580114e+01\n",
       "4      GTEP  1.233878e+04\n",
       "5       TIT  1.372092e+06\n",
       "6       TAT  8.166382e+05\n",
       "7       CDP  3.858125e+04\n",
       "8        CO  3.813210e+00\n",
       "9       NOX  1.071006e+02"
      ]
     },
     "execution_count": 22,
     "metadata": {},
     "output_type": "execute_result"
    }
   ],
   "source": [
    "X = df.drop('TEY',axis=1)\n",
    "calc_vif(X)"
   ]
  },
  {
   "cell_type": "markdown",
   "metadata": {},
   "source": [
    "## Standardize the data"
   ]
  },
  {
   "cell_type": "code",
   "execution_count": 23,
   "metadata": {},
   "outputs": [],
   "source": [
    "from sklearn.preprocessing import StandardScaler"
   ]
  },
  {
   "cell_type": "code",
   "execution_count": 24,
   "metadata": {},
   "outputs": [],
   "source": [
    "scaler = StandardScaler()"
   ]
  },
  {
   "cell_type": "code",
   "execution_count": 25,
   "metadata": {},
   "outputs": [],
   "source": [
    "df1 = scaler.fit_transform(train)"
   ]
  },
  {
   "cell_type": "code",
   "execution_count": 26,
   "metadata": {},
   "outputs": [],
   "source": [
    "## split the DAtas\n",
    "from sklearn.model_selection import train_test_split"
   ]
  },
  {
   "cell_type": "code",
   "execution_count": 27,
   "metadata": {},
   "outputs": [],
   "source": [
    "X_train, X_test, y_train, y_test = train_test_split(train, test, test_size=0.3, random_state = 0)"
   ]
  },
  {
   "cell_type": "code",
   "execution_count": 28,
   "metadata": {
    "scrolled": true
   },
   "outputs": [
    {
     "name": "stdout",
     "output_type": "stream",
     "text": [
      "(10527, 10)  (4512, 10)  (10527,)  (4512,)\n"
     ]
    }
   ],
   "source": [
    "print(f'{X_train.shape}  {X_test.shape}  {y_train.shape}  {y_test.shape}')"
   ]
  },
  {
   "cell_type": "markdown",
   "metadata": {},
   "source": [
    "## build the keras model"
   ]
  },
  {
   "cell_type": "code",
   "execution_count": 29,
   "metadata": {},
   "outputs": [],
   "source": [
    "## build the keras model\n",
    "from keras import Sequential\n",
    "from keras.layers import Dense"
   ]
  },
  {
   "cell_type": "code",
   "execution_count": 30,
   "metadata": {},
   "outputs": [],
   "source": [
    "keras_model = Sequential()"
   ]
  },
  {
   "cell_type": "code",
   "execution_count": 31,
   "metadata": {},
   "outputs": [],
   "source": [
    "#keras_model.add(Dense(1, activation = 'sigmoid'))\n",
    "\n",
    "model = Sequential([\n",
    "    Dense(12, activation='relu', input_shape=(10,)),\n",
    "    Dense(8, activation='relu'),\n",
    "    Dense(1, activation='linear'),\n",
    "])"
   ]
  },
  {
   "cell_type": "code",
   "execution_count": 32,
   "metadata": {},
   "outputs": [],
   "source": [
    "## compling the model\n",
    "#keras_model.compile(loss='binary_crossentropy', optimizer='adam', metrics=['accuracy'])\n",
    "#keras_model.compile(loss = 'binary_crossentropy', optimizer = \"rmsprop\", metrics = ['accuracy'])\n",
    "\n",
    "keras_model.compile(optimizer='sgd',loss='binary_crossentropy',metrics=['accuracy'])"
   ]
  },
  {
   "cell_type": "code",
   "execution_count": 33,
   "metadata": {
    "scrolled": false
   },
   "outputs": [
    {
     "name": "stdout",
     "output_type": "stream",
     "text": [
      "Epoch 1/100\n",
      "878/878 [==============================] - 3s 4ms/step - loss: -1971.5708 - accuracy: 0.0000e+00 - val_loss: -1983.8442 - val_accuracy: 0.0000e+00\n",
      "Epoch 2/100\n",
      "878/878 [==============================] - 2s 2ms/step - loss: -1967.6382 - accuracy: 0.0000e+00 - val_loss: -1983.8442 - val_accuracy: 0.0000e+00\n",
      "Epoch 3/100\n",
      "878/878 [==============================] - 2s 2ms/step - loss: -1964.0952 - accuracy: 0.0000e+00 - val_loss: -1983.8442 - val_accuracy: 0.0000e+00\n",
      "Epoch 4/100\n",
      "878/878 [==============================] - 2s 2ms/step - loss: -1964.2197 - accuracy: 0.0000e+00 - val_loss: -1983.8442 - val_accuracy: 0.0000e+00\n",
      "Epoch 5/100\n",
      "878/878 [==============================] - 2s 2ms/step - loss: -1966.9152 - accuracy: 0.0000e+00 - val_loss: -1983.8442 - val_accuracy: 0.0000e+00\n",
      "Epoch 6/100\n",
      "878/878 [==============================] - 2s 2ms/step - loss: -1964.7848 - accuracy: 0.0000e+00 - val_loss: -1983.8442 - val_accuracy: 0.0000e+00\n",
      "Epoch 7/100\n",
      "878/878 [==============================] - 2s 2ms/step - loss: -1962.4269 - accuracy: 0.0000e+00 - val_loss: -1983.8442 - val_accuracy: 0.0000e+00\n",
      "Epoch 8/100\n",
      "878/878 [==============================] - 2s 2ms/step - loss: -1966.1575 - accuracy: 0.0000e+00 - val_loss: -1983.8442 - val_accuracy: 0.0000e+00\n",
      "Epoch 9/100\n",
      "878/878 [==============================] - 2s 2ms/step - loss: -1968.7679 - accuracy: 0.0000e+00 - val_loss: -1983.8442 - val_accuracy: 0.0000e+00\n",
      "Epoch 10/100\n",
      "878/878 [==============================] - 2s 2ms/step - loss: -1969.0001 - accuracy: 0.0000e+00 - val_loss: -1983.8442 - val_accuracy: 0.0000e+00\n",
      "Epoch 11/100\n",
      "878/878 [==============================] - 2s 2ms/step - loss: -1967.2913 - accuracy: 0.0000e+00 - val_loss: -1983.8442 - val_accuracy: 0.0000e+00\n",
      "Epoch 12/100\n",
      "878/878 [==============================] - 2s 2ms/step - loss: -1966.0326 - accuracy: 0.0000e+00 - val_loss: -1983.8442 - val_accuracy: 0.0000e+00\n",
      "Epoch 13/100\n",
      "878/878 [==============================] - 2s 2ms/step - loss: -1967.5899 - accuracy: 0.0000e+00 - val_loss: -1983.8442 - val_accuracy: 0.0000e+00\n",
      "Epoch 14/100\n",
      "878/878 [==============================] - 2s 2ms/step - loss: -1964.0220 - accuracy: 0.0000e+00 - val_loss: -1983.8442 - val_accuracy: 0.0000e+00\n",
      "Epoch 15/100\n",
      "878/878 [==============================] - 2s 2ms/step - loss: -1965.7608 - accuracy: 0.0000e+00 - val_loss: -1983.8442 - val_accuracy: 0.0000e+00\n",
      "Epoch 16/100\n",
      "878/878 [==============================] - 2s 2ms/step - loss: -1965.2188 - accuracy: 0.0000e+00 - val_loss: -1983.8442 - val_accuracy: 0.0000e+00\n",
      "Epoch 17/100\n",
      "878/878 [==============================] - 2s 2ms/step - loss: -1967.9886 - accuracy: 0.0000e+00 - val_loss: -1983.8442 - val_accuracy: 0.0000e+00\n",
      "Epoch 18/100\n",
      "878/878 [==============================] - 2s 2ms/step - loss: -1966.8850 - accuracy: 0.0000e+00 - val_loss: -1983.8442 - val_accuracy: 0.0000e+00\n",
      "Epoch 19/100\n",
      "878/878 [==============================] - 2s 2ms/step - loss: -1963.7286 - accuracy: 0.0000e+00 - val_loss: -1983.8442 - val_accuracy: 0.0000e+00\n",
      "Epoch 20/100\n",
      "878/878 [==============================] - 2s 2ms/step - loss: -1968.3897 - accuracy: 0.0000e+00 - val_loss: -1983.8442 - val_accuracy: 0.0000e+00\n",
      "Epoch 21/100\n",
      "878/878 [==============================] - 2s 2ms/step - loss: -1967.1046 - accuracy: 0.0000e+00 - val_loss: -1983.8442 - val_accuracy: 0.0000e+00\n",
      "Epoch 22/100\n",
      "878/878 [==============================] - 2s 2ms/step - loss: -1966.1050 - accuracy: 0.0000e+00 - val_loss: -1983.8442 - val_accuracy: 0.0000e+00\n",
      "Epoch 23/100\n",
      "878/878 [==============================] - 2s 2ms/step - loss: -1974.5479 - accuracy: 0.0000e+00 - val_loss: -1983.8442 - val_accuracy: 0.0000e+00\n",
      "Epoch 24/100\n",
      "878/878 [==============================] - 2s 2ms/step - loss: -1969.0026 - accuracy: 0.0000e+00 - val_loss: -1983.8442 - val_accuracy: 0.0000e+00\n",
      "Epoch 25/100\n",
      "878/878 [==============================] - 2s 2ms/step - loss: -1966.9367 - accuracy: 0.0000e+00 - val_loss: -1983.8442 - val_accuracy: 0.0000e+00\n",
      "Epoch 26/100\n",
      "878/878 [==============================] - 2s 2ms/step - loss: -1968.3578 - accuracy: 0.0000e+00 - val_loss: -1983.8442 - val_accuracy: 0.0000e+00\n",
      "Epoch 27/100\n",
      "878/878 [==============================] - 1s 2ms/step - loss: -1966.3555 - accuracy: 0.0000e+00 - val_loss: -1983.8442 - val_accuracy: 0.0000e+00\n",
      "Epoch 28/100\n",
      "878/878 [==============================] - 2s 2ms/step - loss: -1963.9908 - accuracy: 0.0000e+00 - val_loss: -1983.8442 - val_accuracy: 0.0000e+00\n",
      "Epoch 29/100\n",
      "878/878 [==============================] - 2s 2ms/step - loss: -1966.8111 - accuracy: 0.0000e+00 - val_loss: -1983.8442 - val_accuracy: 0.0000e+00\n",
      "Epoch 30/100\n",
      "878/878 [==============================] - 1s 2ms/step - loss: -1968.5508 - accuracy: 0.0000e+00 - val_loss: -1983.8442 - val_accuracy: 0.0000e+00\n",
      "Epoch 31/100\n",
      "878/878 [==============================] - 2s 2ms/step - loss: -1969.5133 - accuracy: 0.0000e+00 - val_loss: -1983.8442 - val_accuracy: 0.0000e+00\n",
      "Epoch 32/100\n",
      "878/878 [==============================] - 2s 2ms/step - loss: -1964.8859 - accuracy: 0.0000e+00 - val_loss: -1983.8442 - val_accuracy: 0.0000e+00\n",
      "Epoch 33/100\n",
      "878/878 [==============================] - 2s 2ms/step - loss: -1967.4822 - accuracy: 0.0000e+00 - val_loss: -1983.8442 - val_accuracy: 0.0000e+00\n",
      "Epoch 34/100\n",
      "878/878 [==============================] - 2s 2ms/step - loss: -1966.9887 - accuracy: 0.0000e+00 - val_loss: -1983.8442 - val_accuracy: 0.0000e+00\n",
      "Epoch 35/100\n",
      "878/878 [==============================] - 2s 2ms/step - loss: -1964.1651 - accuracy: 0.0000e+00 - val_loss: -1983.8442 - val_accuracy: 0.0000e+00\n",
      "Epoch 36/100\n",
      "878/878 [==============================] - 2s 2ms/step - loss: -1968.3434 - accuracy: 0.0000e+00 - val_loss: -1983.8442 - val_accuracy: 0.0000e+00\n",
      "Epoch 37/100\n",
      "878/878 [==============================] - 2s 2ms/step - loss: -1964.2488 - accuracy: 0.0000e+00 - val_loss: -1983.8442 - val_accuracy: 0.0000e+00\n",
      "Epoch 38/100\n",
      "878/878 [==============================] - 2s 2ms/step - loss: -1967.8923 - accuracy: 0.0000e+00 - val_loss: -1983.8442 - val_accuracy: 0.0000e+00\n",
      "Epoch 39/100\n",
      "878/878 [==============================] - 2s 2ms/step - loss: -1965.9988 - accuracy: 0.0000e+00 - val_loss: -1983.8442 - val_accuracy: 0.0000e+00\n",
      "Epoch 40/100\n",
      "878/878 [==============================] - 2s 2ms/step - loss: -1968.9105 - accuracy: 0.0000e+00 - val_loss: -1983.8442 - val_accuracy: 0.0000e+00\n",
      "Epoch 41/100\n",
      "878/878 [==============================] - 2s 2ms/step - loss: -1966.3699 - accuracy: 0.0000e+00 - val_loss: -1983.8442 - val_accuracy: 0.0000e+00\n",
      "Epoch 42/100\n",
      "878/878 [==============================] - 2s 2ms/step - loss: -1968.5321 - accuracy: 0.0000e+00 - val_loss: -1983.8442 - val_accuracy: 0.0000e+00\n",
      "Epoch 43/100\n",
      "878/878 [==============================] - 2s 2ms/step - loss: -1964.7032 - accuracy: 0.0000e+00 - val_loss: -1983.8442 - val_accuracy: 0.0000e+00\n",
      "Epoch 44/100\n",
      "878/878 [==============================] - 2s 2ms/step - loss: -1965.6315 - accuracy: 0.0000e+00 - val_loss: -1983.8442 - val_accuracy: 0.0000e+00\n",
      "Epoch 45/100\n",
      "878/878 [==============================] - 2s 2ms/step - loss: -1965.4268 - accuracy: 0.0000e+00 - val_loss: -1983.8442 - val_accuracy: 0.0000e+00\n",
      "Epoch 46/100\n",
      "878/878 [==============================] - 2s 2ms/step - loss: -1966.4711 - accuracy: 0.0000e+00 - val_loss: -1983.8442 - val_accuracy: 0.0000e+00\n",
      "Epoch 47/100\n",
      "878/878 [==============================] - 2s 2ms/step - loss: -1967.2471 - accuracy: 0.0000e+00 - val_loss: -1983.8442 - val_accuracy: 0.0000e+00\n",
      "Epoch 48/100\n",
      "878/878 [==============================] - 2s 2ms/step - loss: -1960.3223 - accuracy: 0.0000e+00 - val_loss: -1983.8442 - val_accuracy: 0.0000e+00\n",
      "Epoch 49/100\n",
      "878/878 [==============================] - 2s 2ms/step - loss: -1965.8752 - accuracy: 0.0000e+00 - val_loss: -1983.8442 - val_accuracy: 0.0000e+00\n",
      "Epoch 50/100\n",
      "878/878 [==============================] - 2s 2ms/step - loss: -1967.2697 - accuracy: 0.0000e+00 - val_loss: -1983.8442 - val_accuracy: 0.0000e+00\n",
      "Epoch 51/100\n",
      "878/878 [==============================] - 2s 2ms/step - loss: -1967.2080 - accuracy: 0.0000e+00 - val_loss: -1983.8442 - val_accuracy: 0.0000e+00\n",
      "Epoch 52/100\n"
     ]
    },
    {
     "name": "stdout",
     "output_type": "stream",
     "text": [
      "878/878 [==============================] - 2s 2ms/step - loss: -1965.6085 - accuracy: 0.0000e+00 - val_loss: -1983.8442 - val_accuracy: 0.0000e+00\n",
      "Epoch 53/100\n",
      "878/878 [==============================] - 2s 2ms/step - loss: -1964.8920 - accuracy: 0.0000e+00 - val_loss: -1983.8442 - val_accuracy: 0.0000e+00\n",
      "Epoch 54/100\n",
      "878/878 [==============================] - 2s 2ms/step - loss: -1964.8207 - accuracy: 0.0000e+00 - val_loss: -1983.8442 - val_accuracy: 0.0000e+00\n",
      "Epoch 55/100\n",
      "878/878 [==============================] - 2s 2ms/step - loss: -1964.8451 - accuracy: 0.0000e+00 - val_loss: -1983.8442 - val_accuracy: 0.0000e+00\n",
      "Epoch 56/100\n",
      "878/878 [==============================] - 2s 2ms/step - loss: -1967.7414 - accuracy: 0.0000e+00 - val_loss: -1983.8442 - val_accuracy: 0.0000e+00\n",
      "Epoch 57/100\n",
      "878/878 [==============================] - 2s 2ms/step - loss: -1966.2136 - accuracy: 0.0000e+00 - val_loss: -1983.8442 - val_accuracy: 0.0000e+00\n",
      "Epoch 58/100\n",
      "878/878 [==============================] - 2s 2ms/step - loss: -1966.1036 - accuracy: 0.0000e+00 - val_loss: -1983.8442 - val_accuracy: 0.0000e+00\n",
      "Epoch 59/100\n",
      "878/878 [==============================] - 2s 2ms/step - loss: -1964.4911 - accuracy: 0.0000e+00 - val_loss: -1983.8442 - val_accuracy: 0.0000e+00\n",
      "Epoch 60/100\n",
      "878/878 [==============================] - 2s 2ms/step - loss: -1969.5209 - accuracy: 0.0000e+00 - val_loss: -1983.8442 - val_accuracy: 0.0000e+00\n",
      "Epoch 61/100\n",
      "878/878 [==============================] - 1s 2ms/step - loss: -1964.5670 - accuracy: 0.0000e+00 - val_loss: -1983.8442 - val_accuracy: 0.0000e+00\n",
      "Epoch 62/100\n",
      "878/878 [==============================] - 2s 2ms/step - loss: -1965.8112 - accuracy: 0.0000e+00 - val_loss: -1983.8442 - val_accuracy: 0.0000e+00\n",
      "Epoch 63/100\n",
      "878/878 [==============================] - 2s 2ms/step - loss: -1970.0306 - accuracy: 0.0000e+00 - val_loss: -1983.8442 - val_accuracy: 0.0000e+00\n",
      "Epoch 64/100\n",
      "878/878 [==============================] - 2s 2ms/step - loss: -1967.6540 - accuracy: 0.0000e+00 - val_loss: -1983.8442 - val_accuracy: 0.0000e+00\n",
      "Epoch 65/100\n",
      "878/878 [==============================] - 2s 2ms/step - loss: -1963.6219 - accuracy: 0.0000e+00 - val_loss: -1983.8442 - val_accuracy: 0.0000e+00\n",
      "Epoch 66/100\n",
      "878/878 [==============================] - 2s 2ms/step - loss: -1965.9074 - accuracy: 0.0000e+00 - val_loss: -1983.8442 - val_accuracy: 0.0000e+00\n",
      "Epoch 67/100\n",
      "878/878 [==============================] - 2s 2ms/step - loss: -1964.4513 - accuracy: 0.0000e+00 - val_loss: -1983.8442 - val_accuracy: 0.0000e+00\n",
      "Epoch 68/100\n",
      "878/878 [==============================] - 2s 2ms/step - loss: -1966.0799 - accuracy: 0.0000e+00 - val_loss: -1983.8442 - val_accuracy: 0.0000e+00\n",
      "Epoch 69/100\n",
      "878/878 [==============================] - 2s 2ms/step - loss: -1964.9312 - accuracy: 0.0000e+00 - val_loss: -1983.8442 - val_accuracy: 0.0000e+00\n",
      "Epoch 70/100\n",
      "878/878 [==============================] - 2s 2ms/step - loss: -1969.5535 - accuracy: 0.0000e+00 - val_loss: -1983.8442 - val_accuracy: 0.0000e+00\n",
      "Epoch 71/100\n",
      "878/878 [==============================] - 2s 2ms/step - loss: -1966.1396 - accuracy: 0.0000e+00 - val_loss: -1983.8442 - val_accuracy: 0.0000e+00\n",
      "Epoch 72/100\n",
      "878/878 [==============================] - 2s 2ms/step - loss: -1964.5419 - accuracy: 0.0000e+00 - val_loss: -1983.8442 - val_accuracy: 0.0000e+00\n",
      "Epoch 73/100\n",
      "878/878 [==============================] - 2s 2ms/step - loss: -1964.2388 - accuracy: 0.0000e+00 - val_loss: -1983.8442 - val_accuracy: 0.0000e+00\n",
      "Epoch 74/100\n",
      "878/878 [==============================] - 2s 2ms/step - loss: -1964.6791 - accuracy: 0.0000e+00 - val_loss: -1983.8442 - val_accuracy: 0.0000e+00\n",
      "Epoch 75/100\n",
      "878/878 [==============================] - 2s 2ms/step - loss: -1964.9753 - accuracy: 0.0000e+00 - val_loss: -1983.8442 - val_accuracy: 0.0000e+00\n",
      "Epoch 76/100\n",
      "878/878 [==============================] - 2s 2ms/step - loss: -1966.7952 - accuracy: 0.0000e+00 - val_loss: -1983.8442 - val_accuracy: 0.0000e+00\n",
      "Epoch 77/100\n",
      "878/878 [==============================] - 2s 2ms/step - loss: -1967.9085 - accuracy: 0.0000e+00 - val_loss: -1983.8442 - val_accuracy: 0.0000e+00\n",
      "Epoch 78/100\n",
      "878/878 [==============================] - 2s 2ms/step - loss: -1965.0282 - accuracy: 0.0000e+00 - val_loss: -1983.8442 - val_accuracy: 0.0000e+00\n",
      "Epoch 79/100\n",
      "878/878 [==============================] - 2s 2ms/step - loss: -1968.7848 - accuracy: 0.0000e+00 - val_loss: -1983.8442 - val_accuracy: 0.0000e+00\n",
      "Epoch 80/100\n",
      "878/878 [==============================] - 2s 2ms/step - loss: -1965.8431 - accuracy: 0.0000e+00 - val_loss: -1983.8442 - val_accuracy: 0.0000e+00\n",
      "Epoch 81/100\n",
      "878/878 [==============================] - 2s 2ms/step - loss: -1967.3171 - accuracy: 0.0000e+00 - val_loss: -1983.8442 - val_accuracy: 0.0000e+00\n",
      "Epoch 82/100\n",
      "878/878 [==============================] - 2s 2ms/step - loss: -1967.0191 - accuracy: 0.0000e+00 - val_loss: -1983.8442 - val_accuracy: 0.0000e+00\n",
      "Epoch 83/100\n",
      "878/878 [==============================] - 2s 2ms/step - loss: -1967.0457 - accuracy: 0.0000e+00 - val_loss: -1983.8442 - val_accuracy: 0.0000e+00\n",
      "Epoch 84/100\n",
      "878/878 [==============================] - 2s 2ms/step - loss: -1972.6796 - accuracy: 0.0000e+00 - val_loss: -1983.8442 - val_accuracy: 0.0000e+00\n",
      "Epoch 85/100\n",
      "878/878 [==============================] - 1s 2ms/step - loss: -1965.3251 - accuracy: 0.0000e+00 - val_loss: -1983.8442 - val_accuracy: 0.0000e+00\n",
      "Epoch 86/100\n",
      "878/878 [==============================] - 1s 2ms/step - loss: -1966.7038 - accuracy: 0.0000e+00 - val_loss: -1983.8442 - val_accuracy: 0.0000e+00\n",
      "Epoch 87/100\n",
      "878/878 [==============================] - 2s 2ms/step - loss: -1967.1289 - accuracy: 0.0000e+00 - val_loss: -1983.8442 - val_accuracy: 0.0000e+00\n",
      "Epoch 88/100\n",
      "878/878 [==============================] - 2s 2ms/step - loss: -1967.1618 - accuracy: 0.0000e+00 - val_loss: -1983.8442 - val_accuracy: 0.0000e+00\n",
      "Epoch 89/100\n",
      "878/878 [==============================] - 1s 2ms/step - loss: -1969.6214 - accuracy: 0.0000e+00 - val_loss: -1983.8442 - val_accuracy: 0.0000e+00\n",
      "Epoch 90/100\n",
      "878/878 [==============================] - 2s 2ms/step - loss: -1970.4813 - accuracy: 0.0000e+00 - val_loss: -1983.8442 - val_accuracy: 0.0000e+00\n",
      "Epoch 91/100\n",
      "878/878 [==============================] - 2s 2ms/step - loss: -1967.0163 - accuracy: 0.0000e+00 - val_loss: -1983.8442 - val_accuracy: 0.0000e+00\n",
      "Epoch 92/100\n",
      "878/878 [==============================] - 2s 2ms/step - loss: -1965.6079 - accuracy: 0.0000e+00 - val_loss: -1983.8442 - val_accuracy: 0.0000e+00\n",
      "Epoch 93/100\n",
      "878/878 [==============================] - 2s 2ms/step - loss: -1968.9702 - accuracy: 0.0000e+00 - val_loss: -1983.8442 - val_accuracy: 0.0000e+00\n",
      "Epoch 94/100\n",
      "878/878 [==============================] - 2s 2ms/step - loss: -1961.9452 - accuracy: 0.0000e+00 - val_loss: -1983.8442 - val_accuracy: 0.0000e+00\n",
      "Epoch 95/100\n",
      "878/878 [==============================] - 2s 2ms/step - loss: -1966.4090 - accuracy: 0.0000e+00 - val_loss: -1983.8442 - val_accuracy: 0.0000e+00\n",
      "Epoch 96/100\n",
      "878/878 [==============================] - 2s 2ms/step - loss: -1966.4971 - accuracy: 0.0000e+00 - val_loss: -1983.8442 - val_accuracy: 0.0000e+00\n",
      "Epoch 97/100\n",
      "878/878 [==============================] - 2s 2ms/step - loss: -1966.8388 - accuracy: 0.0000e+00 - val_loss: -1983.8442 - val_accuracy: 0.0000e+00\n",
      "Epoch 98/100\n",
      "878/878 [==============================] - 2s 2ms/step - loss: -1964.8303 - accuracy: 0.0000e+00 - val_loss: -1983.8442 - val_accuracy: 0.0000e+00\n",
      "Epoch 99/100\n",
      "878/878 [==============================] - 2s 2ms/step - loss: -1968.8535 - accuracy: 0.0000e+00 - val_loss: -1983.8442 - val_accuracy: 0.0000e+00\n",
      "Epoch 100/100\n",
      "878/878 [==============================] - 2s 2ms/step - loss: -1969.9417 - accuracy: 0.0000e+00 - val_loss: -1983.8442 - val_accuracy: 0.0000e+00\n"
     ]
    }
   ],
   "source": [
    "#keras_model.fit(X_train, y_train, batch_size = 32, epochs = 100)\n",
    "#keras_model.fit(X_train, y_train, epochs=150, batch_size=10)\n",
    "#keras_model.fit(X_train, y_train, validation_data=(X_train.to_numpy(), y_train.to_numpy()), epochs=10, batch_size=64)\n",
    "\n",
    "\n",
    "hist = keras_model.fit(np.array(X_train),np.array(y_train), batch_size=12, epochs=100,validation_data=(X_test, y_test))"
   ]
  },
  {
   "cell_type": "code",
   "execution_count": 34,
   "metadata": {},
   "outputs": [
    {
     "name": "stdout",
     "output_type": "stream",
     "text": [
      "141/141 [==============================] - 0s 2ms/step - loss: -1983.8440 - accuracy: 0.0000e+00\n"
     ]
    },
    {
     "data": {
      "text/plain": [
       "0.0"
      ]
     },
     "execution_count": 34,
     "metadata": {},
     "output_type": "execute_result"
    }
   ],
   "source": [
    "keras_model.evaluate(X_test, y_test)[1]"
   ]
  },
  {
   "cell_type": "markdown",
   "metadata": {},
   "source": [
    "## As we are getting 0.0 accuracy we will build a diff model using different loss function and different optimizer.\n",
    "\n",
    "## building another new model"
   ]
  },
  {
   "cell_type": "code",
   "execution_count": 35,
   "metadata": {},
   "outputs": [],
   "source": [
    "keras_model2 = Sequential([\n",
    "    Dense(16, activation='relu', input_shape=(10,)),\n",
    "    Dense(12, activation='relu'),\n",
    "    Dense(1, activation='linear'),\n",
    "])"
   ]
  },
  {
   "cell_type": "code",
   "execution_count": 36,
   "metadata": {},
   "outputs": [],
   "source": [
    "keras_model2.compile(optimizer='adam',\n",
    "              loss='mean_squared_error',\n",
    "              metrics=['mse'])"
   ]
  },
  {
   "cell_type": "code",
   "execution_count": 37,
   "metadata": {},
   "outputs": [
    {
     "name": "stdout",
     "output_type": "stream",
     "text": [
      "Epoch 1/100\n",
      "878/878 [==============================] - 3s 3ms/step - loss: 14671.4593 - mse: 14671.4593 - val_loss: 137.4188 - val_mse: 137.4188\n",
      "Epoch 2/100\n",
      "878/878 [==============================] - 2s 2ms/step - loss: 129.8031 - mse: 129.8031 - val_loss: 99.8372 - val_mse: 99.8372\n",
      "Epoch 3/100\n",
      "878/878 [==============================] - 2s 2ms/step - loss: 90.5327 - mse: 90.5327 - val_loss: 55.5267 - val_mse: 55.5267\n",
      "Epoch 4/100\n",
      "878/878 [==============================] - 2s 2ms/step - loss: 44.0377 - mse: 44.0377 - val_loss: 21.7491 - val_mse: 21.7491\n",
      "Epoch 5/100\n",
      "878/878 [==============================] - 2s 2ms/step - loss: 15.1619 - mse: 15.1619 - val_loss: 9.3460 - val_mse: 9.3460\n",
      "Epoch 6/100\n",
      "878/878 [==============================] - 2s 2ms/step - loss: 8.3090 - mse: 8.3090 - val_loss: 6.8189 - val_mse: 6.8189\n",
      "Epoch 7/100\n",
      "878/878 [==============================] - 2s 2ms/step - loss: 6.0047 - mse: 6.0047 - val_loss: 8.4916 - val_mse: 8.4916\n",
      "Epoch 8/100\n",
      "878/878 [==============================] - 2s 2ms/step - loss: 4.5010 - mse: 4.5010 - val_loss: 4.1447 - val_mse: 4.1447\n",
      "Epoch 9/100\n",
      "878/878 [==============================] - 2s 2ms/step - loss: 3.3147 - mse: 3.3147 - val_loss: 2.7227 - val_mse: 2.7227\n",
      "Epoch 10/100\n",
      "878/878 [==============================] - 2s 2ms/step - loss: 2.6630 - mse: 2.6630 - val_loss: 4.0006 - val_mse: 4.0006\n",
      "Epoch 11/100\n",
      "878/878 [==============================] - 2s 2ms/step - loss: 2.5840 - mse: 2.5840 - val_loss: 1.9677 - val_mse: 1.9677\n",
      "Epoch 12/100\n",
      "878/878 [==============================] - 2s 2ms/step - loss: 2.2814 - mse: 2.2814 - val_loss: 1.6318 - val_mse: 1.6318\n",
      "Epoch 13/100\n",
      "878/878 [==============================] - 2s 2ms/step - loss: 2.1597 - mse: 2.1597 - val_loss: 1.6750 - val_mse: 1.6750\n",
      "Epoch 14/100\n",
      "878/878 [==============================] - 2s 2ms/step - loss: 2.0893 - mse: 2.0893 - val_loss: 2.0800 - val_mse: 2.0800\n",
      "Epoch 15/100\n",
      "878/878 [==============================] - 2s 2ms/step - loss: 2.2479 - mse: 2.2479 - val_loss: 1.4642 - val_mse: 1.4642\n",
      "Epoch 16/100\n",
      "878/878 [==============================] - 2s 2ms/step - loss: 1.9877 - mse: 1.9877 - val_loss: 1.2886 - val_mse: 1.2886\n",
      "Epoch 17/100\n",
      "878/878 [==============================] - 2s 2ms/step - loss: 1.9200 - mse: 1.9200 - val_loss: 1.2988 - val_mse: 1.2988\n",
      "Epoch 18/100\n",
      "878/878 [==============================] - 2s 2ms/step - loss: 1.9177 - mse: 1.9177 - val_loss: 1.2860 - val_mse: 1.2860\n",
      "Epoch 19/100\n",
      "878/878 [==============================] - 2s 2ms/step - loss: 2.0221 - mse: 2.0221 - val_loss: 1.1842 - val_mse: 1.1842\n",
      "Epoch 20/100\n",
      "878/878 [==============================] - 2s 2ms/step - loss: 2.1090 - mse: 2.1090 - val_loss: 1.1612 - val_mse: 1.1612\n",
      "Epoch 21/100\n",
      "878/878 [==============================] - 2s 2ms/step - loss: 1.8429 - mse: 1.8429 - val_loss: 1.3346 - val_mse: 1.3346\n",
      "Epoch 22/100\n",
      "878/878 [==============================] - 2s 2ms/step - loss: 1.6296 - mse: 1.6296 - val_loss: 1.1870 - val_mse: 1.1870\n",
      "Epoch 23/100\n",
      "878/878 [==============================] - 2s 2ms/step - loss: 1.7592 - mse: 1.7592 - val_loss: 1.1523 - val_mse: 1.1523\n",
      "Epoch 24/100\n",
      "878/878 [==============================] - 2s 2ms/step - loss: 1.5334 - mse: 1.5334 - val_loss: 1.0939 - val_mse: 1.0939\n",
      "Epoch 25/100\n",
      "878/878 [==============================] - 2s 2ms/step - loss: 1.9364 - mse: 1.9364 - val_loss: 1.6909 - val_mse: 1.6909\n",
      "Epoch 26/100\n",
      "878/878 [==============================] - 2s 2ms/step - loss: 1.7329 - mse: 1.7329 - val_loss: 3.4757 - val_mse: 3.4757\n",
      "Epoch 27/100\n",
      "878/878 [==============================] - 2s 2ms/step - loss: 1.6595 - mse: 1.6595 - val_loss: 3.5070 - val_mse: 3.5070\n",
      "Epoch 28/100\n",
      "878/878 [==============================] - 2s 2ms/step - loss: 1.5326 - mse: 1.5326 - val_loss: 1.9022 - val_mse: 1.9022\n",
      "Epoch 29/100\n",
      "878/878 [==============================] - 2s 2ms/step - loss: 1.5861 - mse: 1.5861 - val_loss: 1.1797 - val_mse: 1.1797\n",
      "Epoch 30/100\n",
      "878/878 [==============================] - 2s 2ms/step - loss: 1.6729 - mse: 1.6729 - val_loss: 1.0789 - val_mse: 1.0789\n",
      "Epoch 31/100\n",
      "878/878 [==============================] - 2s 2ms/step - loss: 1.5354 - mse: 1.5354 - val_loss: 1.8317 - val_mse: 1.8317\n",
      "Epoch 32/100\n",
      "878/878 [==============================] - 2s 2ms/step - loss: 1.6369 - mse: 1.6369 - val_loss: 2.9551 - val_mse: 2.9551\n",
      "Epoch 33/100\n",
      "878/878 [==============================] - 2s 2ms/step - loss: 1.7161 - mse: 1.7161 - val_loss: 2.8231 - val_mse: 2.8231\n",
      "Epoch 34/100\n",
      "878/878 [==============================] - 2s 2ms/step - loss: 1.8151 - mse: 1.8151 - val_loss: 2.2612 - val_mse: 2.2612\n",
      "Epoch 35/100\n",
      "878/878 [==============================] - 2s 2ms/step - loss: 1.7799 - mse: 1.7799 - val_loss: 1.1003 - val_mse: 1.1003\n",
      "Epoch 36/100\n",
      "878/878 [==============================] - 2s 2ms/step - loss: 1.4494 - mse: 1.4494 - val_loss: 1.4997 - val_mse: 1.4997\n",
      "Epoch 37/100\n",
      "878/878 [==============================] - 2s 2ms/step - loss: 1.6967 - mse: 1.6967 - val_loss: 2.2696 - val_mse: 2.2696\n",
      "Epoch 38/100\n",
      "878/878 [==============================] - 2s 2ms/step - loss: 1.4606 - mse: 1.4606 - val_loss: 1.2698 - val_mse: 1.2698\n",
      "Epoch 39/100\n",
      "878/878 [==============================] - 2s 2ms/step - loss: 1.6527 - mse: 1.6527 - val_loss: 2.0589 - val_mse: 2.0589\n",
      "Epoch 40/100\n",
      "878/878 [==============================] - 2s 2ms/step - loss: 1.5743 - mse: 1.5743 - val_loss: 1.0342 - val_mse: 1.0342\n",
      "Epoch 41/100\n",
      "878/878 [==============================] - 2s 2ms/step - loss: 1.5847 - mse: 1.5847 - val_loss: 1.1808 - val_mse: 1.1808\n",
      "Epoch 42/100\n",
      "878/878 [==============================] - 2s 2ms/step - loss: 1.5597 - mse: 1.5597 - val_loss: 1.6023 - val_mse: 1.6023\n",
      "Epoch 43/100\n",
      "878/878 [==============================] - 2s 2ms/step - loss: 1.5898 - mse: 1.5898 - val_loss: 1.0707 - val_mse: 1.0707\n",
      "Epoch 44/100\n",
      "878/878 [==============================] - 2s 2ms/step - loss: 1.5640 - mse: 1.5640 - val_loss: 1.0210 - val_mse: 1.0210\n",
      "Epoch 45/100\n",
      "878/878 [==============================] - 2s 2ms/step - loss: 1.6169 - mse: 1.6169 - val_loss: 1.3271 - val_mse: 1.3271\n",
      "Epoch 46/100\n",
      "878/878 [==============================] - 2s 2ms/step - loss: 1.6429 - mse: 1.6429 - val_loss: 3.3278 - val_mse: 3.3278\n",
      "Epoch 47/100\n",
      "878/878 [==============================] - 2s 2ms/step - loss: 1.4964 - mse: 1.4964 - val_loss: 1.8518 - val_mse: 1.8518\n",
      "Epoch 48/100\n",
      "878/878 [==============================] - 2s 2ms/step - loss: 1.4809 - mse: 1.4809 - val_loss: 2.8666 - val_mse: 2.8666\n",
      "Epoch 49/100\n",
      "878/878 [==============================] - 2s 2ms/step - loss: 1.5333 - mse: 1.5333 - val_loss: 1.2355 - val_mse: 1.2355\n",
      "Epoch 50/100\n",
      "878/878 [==============================] - 2s 2ms/step - loss: 1.5886 - mse: 1.5886 - val_loss: 2.3686 - val_mse: 2.3686\n",
      "Epoch 51/100\n",
      "878/878 [==============================] - 2s 2ms/step - loss: 1.5397 - mse: 1.5397 - val_loss: 1.2774 - val_mse: 1.2774\n",
      "Epoch 52/100\n",
      "878/878 [==============================] - 2s 2ms/step - loss: 1.6455 - mse: 1.6455 - val_loss: 2.5417 - val_mse: 2.5417\n",
      "Epoch 53/100\n",
      "878/878 [==============================] - 2s 2ms/step - loss: 1.6157 - mse: 1.6157 - val_loss: 2.0980 - val_mse: 2.0980\n",
      "Epoch 54/100\n",
      "878/878 [==============================] - 2s 2ms/step - loss: 1.6142 - mse: 1.6142 - val_loss: 1.1420 - val_mse: 1.1420\n",
      "Epoch 55/100\n",
      "878/878 [==============================] - 2s 2ms/step - loss: 1.4279 - mse: 1.4279 - val_loss: 1.1068 - val_mse: 1.1068\n",
      "Epoch 56/100\n",
      "878/878 [==============================] - 2s 2ms/step - loss: 1.4470 - mse: 1.4470 - val_loss: 2.1457 - val_mse: 2.1457\n",
      "Epoch 57/100\n",
      "878/878 [==============================] - 2s 2ms/step - loss: 1.7769 - mse: 1.7769 - val_loss: 1.8500 - val_mse: 1.8500\n",
      "Epoch 58/100\n",
      "878/878 [==============================] - 2s 2ms/step - loss: 1.5033 - mse: 1.5033 - val_loss: 1.0036 - val_mse: 1.0036\n",
      "Epoch 59/100\n",
      "878/878 [==============================] - 2s 2ms/step - loss: 1.3608 - mse: 1.3608 - val_loss: 1.2572 - val_mse: 1.2572\n",
      "Epoch 60/100\n",
      "878/878 [==============================] - 2s 2ms/step - loss: 1.3372 - mse: 1.3372 - val_loss: 4.0642 - val_mse: 4.0642\n",
      "Epoch 61/100\n",
      "878/878 [==============================] - 2s 2ms/step - loss: 1.4745 - mse: 1.4745 - val_loss: 1.2044 - val_mse: 1.2044\n"
     ]
    },
    {
     "name": "stdout",
     "output_type": "stream",
     "text": [
      "Epoch 62/100\n",
      "878/878 [==============================] - 2s 2ms/step - loss: 1.3639 - mse: 1.3639 - val_loss: 5.0337 - val_mse: 5.0337\n",
      "Epoch 63/100\n",
      "878/878 [==============================] - 2s 2ms/step - loss: 1.3887 - mse: 1.3887 - val_loss: 1.4254 - val_mse: 1.4254\n",
      "Epoch 64/100\n",
      "878/878 [==============================] - 2s 2ms/step - loss: 1.2318 - mse: 1.2318 - val_loss: 1.2794 - val_mse: 1.2794\n",
      "Epoch 65/100\n",
      "878/878 [==============================] - 2s 2ms/step - loss: 1.2093 - mse: 1.2093 - val_loss: 0.8238 - val_mse: 0.8238\n",
      "Epoch 66/100\n",
      "878/878 [==============================] - 2s 2ms/step - loss: 1.1057 - mse: 1.1057 - val_loss: 0.8840 - val_mse: 0.8840\n",
      "Epoch 67/100\n",
      "878/878 [==============================] - 2s 2ms/step - loss: 1.2266 - mse: 1.2266 - val_loss: 1.4400 - val_mse: 1.4400\n",
      "Epoch 68/100\n",
      "878/878 [==============================] - 2s 2ms/step - loss: 0.9749 - mse: 0.9749 - val_loss: 0.8837 - val_mse: 0.8837\n",
      "Epoch 69/100\n",
      "878/878 [==============================] - 2s 2ms/step - loss: 1.1785 - mse: 1.1785 - val_loss: 0.9148 - val_mse: 0.9148\n",
      "Epoch 70/100\n",
      "878/878 [==============================] - 2s 2ms/step - loss: 1.1730 - mse: 1.1730 - val_loss: 3.6394 - val_mse: 3.6394\n",
      "Epoch 71/100\n",
      "878/878 [==============================] - 2s 2ms/step - loss: 1.2088 - mse: 1.2088 - val_loss: 0.8534 - val_mse: 0.8534\n",
      "Epoch 72/100\n",
      "878/878 [==============================] - 2s 2ms/step - loss: 1.0176 - mse: 1.0176 - val_loss: 0.6863 - val_mse: 0.6863\n",
      "Epoch 73/100\n",
      "878/878 [==============================] - 2s 2ms/step - loss: 1.0021 - mse: 1.0021 - val_loss: 2.0170 - val_mse: 2.0170\n",
      "Epoch 74/100\n",
      "878/878 [==============================] - 2s 2ms/step - loss: 1.0301 - mse: 1.0301 - val_loss: 1.3332 - val_mse: 1.3332\n",
      "Epoch 75/100\n",
      "878/878 [==============================] - 2s 2ms/step - loss: 1.0633 - mse: 1.0633 - val_loss: 0.9036 - val_mse: 0.9036\n",
      "Epoch 76/100\n",
      "878/878 [==============================] - 2s 2ms/step - loss: 1.0412 - mse: 1.0412 - val_loss: 1.7662 - val_mse: 1.7662\n",
      "Epoch 77/100\n",
      "878/878 [==============================] - 2s 2ms/step - loss: 1.0733 - mse: 1.0733 - val_loss: 0.8422 - val_mse: 0.8422\n",
      "Epoch 78/100\n",
      "878/878 [==============================] - 2s 2ms/step - loss: 1.1564 - mse: 1.1564 - val_loss: 2.1406 - val_mse: 2.1406\n",
      "Epoch 79/100\n",
      "878/878 [==============================] - 2s 2ms/step - loss: 1.1423 - mse: 1.1423 - val_loss: 0.6900 - val_mse: 0.6900\n",
      "Epoch 80/100\n",
      "878/878 [==============================] - 2s 2ms/step - loss: 1.0624 - mse: 1.0624 - val_loss: 0.7037 - val_mse: 0.7037\n",
      "Epoch 81/100\n",
      "878/878 [==============================] - 2s 2ms/step - loss: 1.1224 - mse: 1.1224 - val_loss: 1.7227 - val_mse: 1.7227\n",
      "Epoch 82/100\n",
      "878/878 [==============================] - 2s 3ms/step - loss: 1.0084 - mse: 1.0084 - val_loss: 0.7588 - val_mse: 0.7588\n",
      "Epoch 83/100\n",
      "878/878 [==============================] - 2s 2ms/step - loss: 1.0343 - mse: 1.0343 - val_loss: 0.8053 - val_mse: 0.8053\n",
      "Epoch 84/100\n",
      "878/878 [==============================] - 2s 2ms/step - loss: 1.0778 - mse: 1.0778 - val_loss: 0.9381 - val_mse: 0.9381\n",
      "Epoch 85/100\n",
      "878/878 [==============================] - 2s 2ms/step - loss: 0.9937 - mse: 0.9937 - val_loss: 0.8982 - val_mse: 0.8982\n",
      "Epoch 86/100\n",
      "878/878 [==============================] - 2s 2ms/step - loss: 1.0097 - mse: 1.0097 - val_loss: 0.8776 - val_mse: 0.8776\n",
      "Epoch 87/100\n",
      "878/878 [==============================] - 2s 2ms/step - loss: 1.1495 - mse: 1.1495 - val_loss: 2.1989 - val_mse: 2.1989\n",
      "Epoch 88/100\n",
      "878/878 [==============================] - 2s 2ms/step - loss: 1.1361 - mse: 1.1361 - val_loss: 0.9406 - val_mse: 0.9406\n",
      "Epoch 89/100\n",
      "878/878 [==============================] - 2s 2ms/step - loss: 0.9721 - mse: 0.9721 - val_loss: 0.8287 - val_mse: 0.8287\n",
      "Epoch 90/100\n",
      "878/878 [==============================] - 2s 2ms/step - loss: 1.0233 - mse: 1.0233 - val_loss: 1.1499 - val_mse: 1.1499\n",
      "Epoch 91/100\n",
      "878/878 [==============================] - 2s 2ms/step - loss: 0.9696 - mse: 0.9696 - val_loss: 1.0753 - val_mse: 1.0753\n",
      "Epoch 92/100\n",
      "878/878 [==============================] - 2s 2ms/step - loss: 1.0033 - mse: 1.0033 - val_loss: 0.7610 - val_mse: 0.7610\n",
      "Epoch 93/100\n",
      "878/878 [==============================] - 2s 2ms/step - loss: 1.0655 - mse: 1.0655 - val_loss: 0.6754 - val_mse: 0.6754\n",
      "Epoch 94/100\n",
      "878/878 [==============================] - 2s 2ms/step - loss: 0.9575 - mse: 0.9575 - val_loss: 0.8573 - val_mse: 0.8573\n",
      "Epoch 95/100\n",
      "878/878 [==============================] - 2s 2ms/step - loss: 0.9878 - mse: 0.9878 - val_loss: 0.6681 - val_mse: 0.6681\n",
      "Epoch 96/100\n",
      "878/878 [==============================] - 2s 2ms/step - loss: 0.9648 - mse: 0.9648 - val_loss: 1.3278 - val_mse: 1.3278\n",
      "Epoch 97/100\n",
      "878/878 [==============================] - 2s 2ms/step - loss: 1.0396 - mse: 1.0396 - val_loss: 0.7038 - val_mse: 0.7038\n",
      "Epoch 98/100\n",
      "878/878 [==============================] - 2s 2ms/step - loss: 1.0383 - mse: 1.0383 - val_loss: 1.6554 - val_mse: 1.6554\n",
      "Epoch 99/100\n",
      "878/878 [==============================] - 2s 2ms/step - loss: 0.9367 - mse: 0.9367 - val_loss: 0.7871 - val_mse: 0.7871\n",
      "Epoch 100/100\n",
      "878/878 [==============================] - 2s 2ms/step - loss: 1.1170 - mse: 1.1170 - val_loss: 1.3436 - val_mse: 1.3436\n"
     ]
    }
   ],
   "source": [
    "hist_2 = keras_model2.fit(np.array(X_train),np.array(y_train),\n",
    "          batch_size=12, epochs=100,\n",
    "          validation_data=(X_test, y_test))"
   ]
  },
  {
   "cell_type": "code",
   "execution_count": 38,
   "metadata": {},
   "outputs": [
    {
     "name": "stdout",
     "output_type": "stream",
     "text": [
      "141/141 [==============================] - 0s 2ms/step - loss: 1.3436 - mse: 1.3436\n",
      "mse: 134.36%\n"
     ]
    }
   ],
   "source": [
    "# evaluate the model\n",
    "scores = keras_model2.evaluate(X_test, y_test)\n",
    "print(\"%s: %.2f%%\" % (keras_model2.metrics_names[1], scores[1]*100))"
   ]
  },
  {
   "cell_type": "code",
   "execution_count": 39,
   "metadata": {},
   "outputs": [
    {
     "data": {
      "text/plain": [
       "dict_keys([])"
      ]
     },
     "execution_count": 39,
     "metadata": {},
     "output_type": "execute_result"
    }
   ],
   "source": [
    "#Visualize the train data\n",
    "# list all data in history\n",
    "keras_model2.history.history.keys()"
   ]
  },
  {
   "cell_type": "code",
   "execution_count": 40,
   "metadata": {},
   "outputs": [],
   "source": [
    "# summarize history for accuracy\n",
    "import matplotlib.pyplot as plt"
   ]
  },
  {
   "cell_type": "code",
   "execution_count": 41,
   "metadata": {},
   "outputs": [
    {
     "data": {
      "image/png": "[encoded data removed]",
      "text/plain": [
       "<Figure size 864x864 with 1 Axes>"
      ]
     },
     "metadata": {
      "needs_background": "light"
     },
     "output_type": "display_data"
    }
   ],
   "source": [
    "plt.figure(figsize = (12,12))\n",
    "plt.plot(hist_2.history['mse'])\n",
    "plt.plot(hist_2.history['val_mse'])\n",
    "plt.title('model accuracy')\n",
    "plt.ylabel('mse')\n",
    "plt.xlabel('epoch')\n",
    "plt.legend(['train', 'test'], loc='upper right')\n",
    "plt.show()"
   ]
  },
  {
   "cell_type": "code",
   "execution_count": 42,
   "metadata": {},
   "outputs": [
    {
     "data": {
      "image/png": "[encoded data removed]",
      "text/plain": [
       "<Figure size 864x864 with 1 Axes>"
      ]
     },
     "metadata": {
      "needs_background": "light"
     },
     "output_type": "display_data"
    }
   ],
   "source": [
    "# summarize history for loss\n",
    "plt.figure(figsize = (12,12))\n",
    "plt.plot(hist_2.history['loss'])\n",
    "plt.plot(hist_2.history['val_loss'])\n",
    "plt.title('model loss')\n",
    "plt.ylabel('loss')\n",
    "plt.xlabel('epoch')\n",
    "plt.legend(['train', 'test'], loc='upper right')\n",
    "plt.show()"
   ]
  },
  {
   "cell_type": "code",
   "execution_count": null,
   "metadata": {},
   "outputs": [],
   "source": []
  }
 ],
 "metadata": {
  "kernelspec": {
   "display_name": "Python 3",
   "language": "python",
   "name": "python3"
  },
  "language_info": {
   "codemirror_mode": {
    "name": "ipython",
    "version": 3
   },
   "file_extension": ".py",
   "mimetype": "text/x-python",
   "name": "python",
   "nbconvert_exporter": "python",
   "pygments_lexer": "ipython3",
   "version": "3.8.5"
  }
 },
 "nbformat": 4,
 "nbformat_minor": 4
}
